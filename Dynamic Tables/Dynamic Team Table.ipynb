{
 "metadata": {
  "kernelspec": {
   "display_name": "Python 3 (ipykernel)",
   "language": "python",
   "name": "python3"
  },
  "language_info": {
   "codemirror_mode": {
    "name": "ipython",
    "version": 3
   },
   "file_extension": ".py",
   "mimetype": "text/x-python",
   "name": "python",
   "nbconvert_exporter": "python",
   "pygments_lexer": "ipython3",
   "version": "3.11.5"
  },
  "lastEditStatus": {
   "notebookId": "vgxrfzhgrk5mpuv35qmw",
   "authorId": "2598265915876",
   "authorName": "CAT",
   "authorEmail": "",
   "sessionId": "c9f667df-e46e-4df7-931e-22607c865fcf",
   "lastEditTime": 1737686178199
  }
 },
 "nbformat_minor": 5,
 "nbformat": 4,
 "cells": [
  {
   "cell_type": "markdown",
   "id": "329f82c2-4822-4a9e-91b7-876066067eac",
   "metadata": {
    "name": "cell1"
   },
   "source": [
    "Dynamic Table for Team"
   ]
  },
  {
   "cell_type": "code",
   "id": "e91a10e6-ca72-4d25-93f3-22358e095a62",
   "metadata": {
    "language": "sql",
    "name": "cell2"
   },
   "outputs": [],
   "source": "USE WAREHOUSE CAT_wh;\n\nUSE DATABASE RAW3;\n\nUSE SCHEMA F1_3;\n\n-- Creating Dynamic Table for TEAM_STATS\nCREATE OR REPLACE DYNAMIC TABLE DT_TEAM_STATS \n    target_lag = 'DOWNSTREAM'\n    warehouse = CAT_wh\n    refresh_mode = incremental\n    initialize = on_create\nAS\nWITH remove_duplicates AS (\n    SELECT \n        ts.GRAND_PRIX,\n        ts.DATE,\n        ts.POINTS_WON,\n        ts.YEAR,\n        ts.TEAM_NAME,\n        ts.TEAM_OVERALL_POS,\n        ts.TOTAL_PTS,\n        ROW_NUMBER() OVER (\n            PARTITION BY ts.GRAND_PRIX, ts.YEAR, ts.TEAM_NAME \n            ORDER BY ts.POINTS_WON DESC\n        ) AS row_num\n    FROM TEAM_STATS ts\n)\nSELECT *\nFROM remove_duplicates\nWHERE row_num = 1;\n\n\n-- Showing the full table\nSELECT *\nFROM DT_TEAM_STATS\n\n-- Checking number of rows\nSELECT COUNT(*) AS total_rows\nFROM DT_TEAM_STATS;\n",
   "execution_count": null
  }
 ]
}