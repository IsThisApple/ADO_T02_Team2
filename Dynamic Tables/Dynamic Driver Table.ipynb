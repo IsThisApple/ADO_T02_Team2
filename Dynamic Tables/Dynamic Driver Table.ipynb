{
 "metadata": {
  "kernelspec": {
   "display_name": "Python 3 (ipykernel)",
   "language": "python",
   "name": "python3"
  },
  "language_info": {
   "codemirror_mode": {
    "name": "ipython",
    "version": 3
   },
   "file_extension": ".py",
   "mimetype": "text/x-python",
   "name": "python",
   "nbconvert_exporter": "python",
   "pygments_lexer": "ipython3",
   "version": "3.11.5"
  },
  "lastEditStatus": {
   "notebookId": "xs3eu4wxhhdvqaje3ap6",
   "authorId": "9216233790596",
   "authorName": "CATFISH",
   "authorEmail": "",
   "sessionId": "14dce15d-e381-436e-985e-9e6e9612677f",
   "lastEditTime": 1737687886406
  }
 },
 "nbformat_minor": 5,
 "nbformat": 4,
 "cells": [
  {
   "cell_type": "markdown",
   "id": "d9cfee73-a19f-4f81-81c8-644d1658e93c",
   "metadata": {
    "name": "cell1",
    "collapsed": false
   },
   "source": "Dynamic Table for Driver\n\n"
  },
  {
   "cell_type": "code",
   "id": "04c68b35-691e-4829-a3ef-cb42d08ac9d6",
   "metadata": {
    "language": "sql",
    "name": "cell2"
   },
   "outputs": [],
   "source": "create or replace dynamic table DT_DRIVER_TABLE\n    target_lag = 'DOWNSTREAM'\n    warehouse = CATFISH_WH\n    refresh_mode = incremental\n    initialize = on_create\n    as\nWITH remove_duplicates AS (\n    SELECT DISTINCT\n        d.car as CAR,\n        d.detail as DETAIL,\n        d.DRIVER as DRIVER,\n        d.DRIVERCODE as DRIVERCODE,\n        d.GAP as GAP,\n        d.GRAND_PRIX as GRAND_PRIX,\n        d.LAP as LAP,\n        d.nationality as NATIONALITY,\n        d.race_position as RACE_POSITION,\n        d.STOPS as STOPS,\n        d.TIME as TIME ,\n        d.YEAR as YEAR, \n        ROW_NUMBER() OVER (\n            PARTITION BY    d.car,\n                d.detail,\n                d.driver,\n                d.drivercode,\n                d.gap,\n                d.grand_prix,\n                d.lap,\n                d.nationality,\n                d.race_position,\n                d.stops,\n                d.time,\n                d.year\n            ORDER BY d.year\n        ) AS row_num\nfrom RAW3.F1_3.DRIVER_TABLE d\n)\nselect *\nfrom remove_duplicates\nwhere row_num = 1;\n\nSELECT * \nFROM DT_DRIVER_TABLE",
   "execution_count": null
  }
 ]
}