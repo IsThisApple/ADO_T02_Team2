{
 "metadata": {
  "kernelspec": {
   "display_name": "Python 3 (ipykernel)",
   "language": "python",
   "name": "python3"
  },
  "language_info": {
   "codemirror_mode": {
    "name": "ipython",
    "version": 3
   },
   "file_extension": ".py",
   "mimetype": "text/x-python",
   "name": "python",
   "nbconvert_exporter": "python",
   "pygments_lexer": "ipython3",
   "version": "3.12.4"
  }
 },
 "nbformat_minor": 5,
 "nbformat": 4,
 "cells": [
  {
   "cell_type": "code",
   "id": "5b395d11-5ffb-40a0-be72-fbb863de01bd",
   "metadata": {
    "language": "sql",
    "name": "cell2"
   },
   "outputs": [],
   "source": "USE WAREHOUSE CAT_wh;\n\nUSE DATABASE RAW3;\n\nUSE SCHEMA F1_3;\n\n-- Creating the Team Tables\n-- Used UPPER() for the TEAM column to ensure consistency when joining\nCREATE OR REPLACE TABLE TEAM_STATS AS\nSELECT\n    a.GRAND_PRIX,\n    a.DATE AS DATE,\n    a.PTS AS POINTS_WON,\n    a.YEAR,\n    a.TEAM AS TEAM_NAME,\n    b.POS AS TEAM_OVERALL_POS,\n    b.PTS AS TOTAL_PTS\nFROM\n    TEAM_DETAILS a\nLEFT JOIN\n    CONSTRUCTOR_STANDINGS b\nON\n    a.YEAR = b.YEAR\n    AND UPPER(a.TEAM) = UPPER(b.TEAM);\n\n\n-- Checking for nulls in the database\nSELECT * \nFROM TEAM_STATS\nWHERE GRAND_PRIX IS NULL\n    OR DATE IS NULL\n    OR POINTS_WON IS NULL\n    OR YEAR IS NULL\n    OR TEAM_NAME IS NULL\n    OR TEAM_OVERALL_POS IS NULL\n    OR TOTAL_PTS IS NULL;\n\n-- Updating the nulls based on the dataset since there is a small number of nulls\n-- and all are under the same year and same team\nUPDATE TEAM_STATS\nSET TEAM_OVERALL_POS = 9,\n    TOTAL_PTS = 6\nWHERE TEAM_OVERALL_POS IS NULL\n    AND TOTAL_PTS IS NULL\n    AND YEAR = 1975\n    AND TEAM_NAME = 'Frank Williams Racing Cars';\n\n\n-- Checking for nulls again\nSELECT * \nFROM TEAM_STATS\nWHERE GRAND_PRIX IS NULL\n    OR DATE IS NULL\n    OR POINTS_WON IS NULL\n    OR YEAR IS NULL\n    OR TEAM_NAME IS NULL\n    OR TEAM_OVERALL_POS IS NULL\n    OR TOTAL_PTS IS NULL;\n",
   "execution_count": null
  }
 ]
}