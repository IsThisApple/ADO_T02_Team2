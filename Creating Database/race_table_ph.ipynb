{
 "metadata": {
  "kernelspec": {
   "display_name": "Python 3 (ipykernel)",
   "language": "python",
   "name": "python3"
  },
  "language_info": {
   "codemirror_mode": {
    "name": "ipython",
    "version": 3
   },
   "file_extension": ".py",
   "mimetype": "text/x-python",
   "name": "python",
   "nbconvert_exporter": "python",
   "pygments_lexer": "ipython3",
   "version": "3.12.4"
  }
 },
 "nbformat_minor": 5,
 "nbformat": 4,
 "cells": [
  {
   "cell_type": "code",
   "execution_count": null,
   "id": "19a34335-47aa-46a6-8ffb-303ea304dd92",
   "metadata": {
    "name": "cell1",
    "language": "sql"
   },
   "outputs": [],
   "source": "CREATE OR REPLACE TABLE RACE_TABLE AS\nSELECT DISTINCT \n    COALESCE(a.CAR, 'unknown') AS CAR,\n    COALESCE(a.DRIVER, 'unknown') AS DRIVER,\n    COALESCE(b.DRIVERCODE, 'unknown') AS DRIVERCODE,\n    COALESCE(a.GRAND_PRIX, 'unknown') AS GRAND_PRIX,\n    COALESCE(b.LAP, c.LAPS, 'unknown') AS LAPS,\n    COALESCE(c.POS, 'unknown') AS POS,\n    COALESCE(b.TIME, c.TIME, 'unknown') AS TIME,\n    COALESCE(a.YEAR, 'unknown') AS YEAR,\n    COALESCE(CAST(d.DATE AS STRING), 'unknown') AS DATE,\n    COALESCE(d.WINNER, 'unknown') AS WINNER,\n    COALESCE(d.WINNERCODE, 'unknown') AS WINNERCODE,\nFROM fastest_laps a\nLEFT JOIN fastestlaps_detailed b \n    ON a.DRIVER = b.DRIVER AND a.YEAR = b.YEAR AND a.CAR = b.CAR AND a.GRAND_PRIX = b.GRAND_PRIX\nLEFT JOIN qualifyings c \n    ON a.DRIVER = c.DRIVER AND a.YEAR = c.YEAR AND a.CAR = c.CAR AND a.GRAND_PRIX = c.GRAND_PRIX\nLEFT JOIN race_summaries d \n    ON a.YEAR = d.YEAR AND a.GRAND_PRIX = d.GRAND_PRIX;\n\nSELECT * FROM RACE_TABLE;\n\nSELECT * \nFROM RACE_TABLE\nWHERE CAR = 'unknown'\n   OR DRIVER = 'unknown'\n   OR DRIVERCODE = 'unknown'\n   OR GRAND_PRIX = 'unknown'\n   OR WINNER = 'unknown'\n   OR WINNERCODE = 'unknown';"
  }
 ]
}