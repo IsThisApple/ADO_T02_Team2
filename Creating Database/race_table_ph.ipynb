{
 "metadata": {
  "kernelspec": {
   "display_name": "Python 3 (ipykernel)",
   "language": "python",
   "name": "python3"
  },
  "language_info": {
   "codemirror_mode": {
    "name": "ipython",
    "version": 3
   },
   "file_extension": ".py",
   "mimetype": "text/x-python",
   "name": "python",
   "nbconvert_exporter": "python",
   "pygments_lexer": "ipython3",
   "version": "3.12.4"
  },
  "lastEditStatus": {
   "notebookId": "mrahpgthisk7l2iekmu3",
   "authorId": "8377939322453",
   "authorName": "CHIPMUNK",
   "authorEmail": "",
   "sessionId": "3c9e7e16-fb86-417f-afd7-c57a50901fd1",
   "lastEditTime": 1737012651114
  }
 },
 "nbformat_minor": 5,
 "nbformat": 4,
 "cells": [
  {
   "cell_type": "markdown",
   "id": "ee82923d-7a2f-4a18-99d1-392e9a119a83",
   "metadata": {
    "name": "cell2",
    "collapsed": false,
    "resultHeight": 131
   },
   "source": "1. handled the formatting in time\n2. imputed missing values in non-numeric columns with 'unknown'\n3. imputed missing values in numeric columns with \"-999\" as it is an extreme value and easy to notice and filter out\n4. imputed missing values in DATE with '9999-12-31'"
  },
  {
   "cell_type": "code",
   "execution_count": null,
   "id": "19a34335-47aa-46a6-8ffb-303ea304dd92",
   "metadata": {
    "name": "cell1",
    "language": "sql"
   },
   "outputs": [],
   "source": "CREATE OR REPLACE TABLE race_table AS\nWITH median_time AS (\n    SELECT \n        MEDIAN(CASE \n            WHEN POSITION(':' IN TIME) > 0 THEN \n                SPLIT_PART(TIME, ':', 1)::INT * 60 + SPLIT_PART(TIME, ':', 2)::FLOAT\n            ELSE \n                TIME::FLOAT \n        END) AS median_value\n    FROM (\n        SELECT COALESCE(a.TIME, c.TIME) AS TIME\n        FROM fastest_laps a\n        LEFT JOIN fastestlaps_detailed b \n            ON a.DRIVER = b.DRIVER AND a.YEAR = b.YEAR AND a.CAR = b.CAR AND a.GRAND_PRIX = b.GRAND_PRIX\n        LEFT JOIN qualifyings c \n            ON a.DRIVER = c.DRIVER AND a.YEAR = c.YEAR AND a.CAR = c.CAR AND a.GRAND_PRIX = c.GRAND_PRIX\n    ) subquery\n    WHERE TIME IS NOT NULL\n),\nmost_frequent_values AS (\n    SELECT \n        (SELECT CAR FROM fastest_laps GROUP BY CAR ORDER BY COUNT(*) DESC LIMIT 1) AS most_frequent_car,\n        (SELECT DRIVER FROM fastest_laps GROUP BY DRIVER ORDER BY COUNT(*) DESC LIMIT 1) AS most_frequent_driver,\n        (SELECT DRIVERCODE FROM fastestlaps_detailed GROUP BY DRIVERCODE ORDER BY COUNT(*) DESC LIMIT 1) AS most_frequent_drivercode,\n        (SELECT GRAND_PRIX FROM fastest_laps GROUP BY GRAND_PRIX ORDER BY COUNT(*) DESC LIMIT 1) AS most_frequent_grand_prix,\n        MEDIAN(LAPS) AS median_laps\n    FROM qualifyings\n)\nSELECT DISTINCT \n    COALESCE(a.CAR, most_frequent_values.most_frequent_car, 'unknown') AS CAR,\n    COALESCE(a.DRIVER, most_frequent_values.most_frequent_driver, 'unknown') AS DRIVER,\n    COALESCE(b.DRIVERCODE, most_frequent_values.most_frequent_drivercode, 'unknown') AS DRIVERCODE,\n    COALESCE(a.GRAND_PRIX, most_frequent_values.most_frequent_grand_prix, 'unknown') AS GRAND_PRIX,\n    COALESCE(b.LAP, c.LAPS, most_frequent_values.median_laps, -999) AS LAPS,\n    COALESCE(CASE \n                WHEN c.POS IS NULL THEN 'unknown'\n                ELSE c.POS\n             END, 'unknown') AS POS,\n    COALESCE(C.TIME, 'unknown') AS TIME,\n    COALESCE(a.YEAR, -999) AS YEAR,\n    COALESCE(CAST(d.DATE AS STRING), '9999-12-31') AS DATE,\n    COALESCE(d.WINNER, 'unknown') AS WINNER,\n    COALESCE(d.WINNERCODE, 'unknown') AS WINNERCODE\nFROM fastest_laps a\nLEFT JOIN fastestlaps_detailed b \n    ON a.DRIVER = b.DRIVER AND a.YEAR = b.YEAR AND a.CAR = b.CAR AND a.GRAND_PRIX = b.GRAND_PRIX\nLEFT JOIN qualifyings c \n    ON a.DRIVER = c.DRIVER AND a.YEAR = c.YEAR AND a.CAR = c.CAR AND a.GRAND_PRIX = c.GRAND_PRIX\nLEFT JOIN race_summaries d \n    ON a.YEAR = d.YEAR AND a.GRAND_PRIX = d.GRAND_PRIX,\nmost_frequent_values, median_time;\n\n-- Ensure no duplicate constraints\n-- ALTER TABLE race_table\n-- DROP CONSTRAINT pk_race_table;\n-- DROP CONSTRAINT fk_race_driver;\n-- DROP CONSTRAINT fk_race_team;\n\n-- Add primary key constraint\nALTER TABLE race_table\nADD CONSTRAINT pk_race_table PRIMARY KEY (YEAR, GRAND_PRIX, DRIVERCODE);\n\n-- Add foreign key constraint to DRIVER_TABLE\nALTER TABLE race_table\nADD CONSTRAINT fk_race_driver FOREIGN KEY (DRIVER, YEAR) \nREFERENCES DRIVER_TABLE (DRIVER, YEAR);\n\n-- Check constraints\nSELECT * \nFROM INFORMATION_SCHEMA.TABLE_CONSTRAINTS\nWHERE TABLE_NAME = 'race_table';"
  }
 ]
}