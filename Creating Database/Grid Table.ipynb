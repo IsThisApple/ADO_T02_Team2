{
 "metadata": {
  "kernelspec": {
   "display_name": "Python 3 (ipykernel)",
   "language": "python",
   "name": "python3"
  },
  "language_info": {
   "codemirror_mode": {
    "name": "ipython",
    "version": 3
   },
   "file_extension": ".py",
   "mimetype": "text/x-python",
   "name": "python",
   "nbconvert_exporter": "python",
   "pygments_lexer": "ipython3",
   "version": "3.12.4"
  }
 },
 "nbformat_minor": 5,
 "nbformat": 4,
 "cells": [
  {
   "cell_type": "code",
   "execution_count": 1,
   "id": "01d3fb7d-a4cd-4e28-b35b-d30b3bbca6bb",
   "metadata": {
    "name": "cell1",
    "language": "sql"
   },
   "outputs": [
    {
     "name": "stdout",
     "output_type": "stream",
     "text": [
      "Hello\n"
     ]
    }
   ],
   "source": "-- key:\n-- / --> joining\n-- - --> removing nulls\n\nCREATE OR REPLACE TABLE RAW3.F1_3.GRID_STATS AS\nSELECT\n    sg.POS AS SPRINT_POS,                    -- sprint race position\n--  sg.NO AS SPRINT_NO,                      -- sprint race number (same as starting grid number after -)\n--  sg.DRIVER AS SPRINT_DRIVER,              -- driver in sprint race (same as driver in starting grid after -)\n--  sg.CAR AS SPRINT_CAR,                    -- car used in sprint race (same as car used in starting grid after -)\n    sg.TIME AS SPRINT_TIME,                  -- sprint race time\n--  sg.YEAR AS SPRINT_YEAR,                  -- year of the sprint race (same as year of the starting grid afer -)\n--  sg.GRAND_PRIX AS SPRINT_GRAND_PRIX,      -- grand prix for sprint race (same as grand prix for starting grid after -)\n--  sg.DETAIL AS SPRINT_DETAIL,              -- sprint race details (redundant)\n--  sg.DRIVERCODE AS SPRINT_DRIVERCODE,      -- driver code for sprint race (same as driver code for starting grid after -)\n    stg.POS AS STARTING_POS,                 -- starting grid position\n    stg.NO AS NO,                            -- starting grid number\n    stg.DRIVER AS DRIVER,                    -- driver in starting grid\n    stg.CAR AS CAR,                          -- car used in starting grid\n--  stg.TIME AS STARTING_TIME,               -- starting grid time (all nulls after /)\n    stg.YEAR AS YEAR,                        -- year of the starting grid\n    stg.GRAND_PRIX AS GRAND_PRIX,            -- grand prix for starting grid\n--  stg.DETAIL AS STARTING_DETAIL,           -- starting grid details (redundant)\n    stg.DRIVERCODE AS DRIVERCODE    -- driver code for starting grid\nFROM\n    RAW3.F1_3.SPRINT_GRID sg\nLEFT JOIN\n    RAW3.F1_3.STARTING_GRIDS stg\nON\n    sg.DRIVERCODE = stg.DRIVERCODE\n    AND sg.YEAR = stg.YEAR\n    AND sg.GRAND_PRIX = stg.GRAND_PRIX;\n\n-- verify\nSELECT * FROM RAW3.F1_3.GRID_STATS;\n\nDELETE FROM RAW3.F1_3.GRID_STATS\nWHERE \n    STARTING_POS IS NULL\n    OR NO IS NULL\n    OR DRIVER IS NULL\n    OR CAR IS NULL\n    OR YEAR IS NULL\n    OR GRAND_PRIX IS NULL\n    OR DRIVERCODE IS NULL;\n\n-- verify\nSELECT * FROM RAW3.F1_3.GRID_STATS;\n\nUPDATE RAW3.F1_3.GRID_STATS\nSET \n    SPRINT_TIME = COALESCE(SPRINT_TIME, 'N/A');\n\n-- check if there are still any rows with nulls\nSELECT \n    COUNT(*) AS null_Count\nFROM \n    RAW3.F1_3.GRID_STATS\nWHERE \n    SPRINT_TIME IS NULL \n    OR STARTING_POS IS NULL \n    OR NO IS NULL \n    OR DRIVER IS NULL \n    OR CAR IS NULL \n    OR YEAR IS NULL \n    OR GRAND_PRIX IS NULL \n    OR DRIVERCODE IS NULL;\n\n-- verify\nSELECT * FROM RAW3.F1_3.GRID_STATS;"
  }
 ]
}