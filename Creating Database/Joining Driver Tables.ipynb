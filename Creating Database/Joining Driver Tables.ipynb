{
 "metadata": {},
 "nbformat_minor": 5,
 "nbformat": 4,
 "cells": [
  {
   "cell_type": "code",
   "id": "7d637df0-c2e6-410b-80c6-66be191bcd2e",
   "metadata": {
    "language": "sql",
    "name": "cell1"
   },
   "outputs": [],
   "source": "create or replace table driver_table\nas\nWITH median_time AS (\n    SELECT \n        PERCENTILE_CONT(0.5) WITHIN GROUP (\n            ORDER BY CASE \n                WHEN POSITION(':' IN TIME) > 0 THEN \n                    SPLIT_PART(TIME, ':', 1)::INT * 60 + SPLIT_PART(TIME, ':', 2)::FLOAT\n                ELSE \n                    TIME::FLOAT \n            END\n        ) AS median_value\n    FROM pitstops\n    WHERE TIME IS NOT NULL\n)\nSELECT DISTINCT \n    a.CAR,\n    C.DETAIL,\n    a.DRIVER,\n    B.DRIVERCODE,\n    D.GAP,\n    a.GRAND_PRIX,\n    C.LAP,\n    B.NATIONALITY,\n    A.RACE_POSITION,\n    C.STOPS,\n    CASE \n        WHEN POSITION(':' IN C.TIME) > 0 THEN \n            SPLIT_PART(COALESCE(C.TIME, TO_CHAR(median_time.median_value)), ':', 1)::INT * 60 + SPLIT_PART(C.TIME, ':', 2)::FLOAT\n        ELSE \n            COALESCE(C.TIME, TO_CHAR(median_time.median_value))::FLOAT \n    END AS TIME,\n    A.YEAR\nFROM DRIVER_DETAILS a\nLEFT JOIN driver_standings b \n    ON a.driver = b.driver AND a.year = b.year AND a.car = b.car\nLEFT JOIN pitstops c \n    ON a.driver = c.driver AND a.year = c.year AND a.car = c.car AND a.grand_prix = c.grand_prix\nLEFT JOIN practices d \n    ON a.driver = d.driver AND a.car = d.car AND a.year = d.year AND a.grand_prix = d.grand_prix AND a.race_position = d.pos\nLEFT JOIN sprint_results e \n    ON a.driver = e.driver AND a.year = e.year AND a.race_position = e.pos AND a.car = e.car AND a.grand_prix = e.grand_prix\nLEFT JOIN race_details f\n    ON a.driver = f.driver AND a.year = f.year AND a.race_position = f.pos AND a.car = f.car AND a.grand_prix = f.grand_prix\nCROSS JOIN median_time; -- Use CROSS JOIN for scalar CTE results",
   "execution_count": null
  },
  {
   "cell_type": "code",
   "id": "90d5a617-f1a3-4941-91d1-ffb538328ffa",
   "metadata": {
    "language": "sql",
    "name": "cell2"
   },
   "outputs": [],
   "source": "CREATE OR REPLACE TEMPORARY TABLE temp_driver_table AS\nWITH median_time AS (\n    SELECT \n        MEDIAN(CASE \n            WHEN POSITION(':' IN TIME) > 0 THEN \n                SPLIT_PART(TIME, ':', 1)::INT * 60 + SPLIT_PART(TIME, ':', 2)::FLOAT\n            ELSE \n                TIME::FLOAT \n        END) AS median_value\n    FROM pitstops\n    WHERE TIME IS NOT NULL\n),\nmost_frequent_values AS (\n    SELECT \n        (SELECT CAR FROM DRIVER_DETAILS GROUP BY CAR ORDER BY COUNT(*) DESC LIMIT 1) AS most_frequent_car,\n        (SELECT DETAIL FROM pitstops GROUP BY DETAIL ORDER BY COUNT(*) DESC LIMIT 1) AS most_frequent_detail,\n        (SELECT NATIONALITY FROM driver_standings GROUP BY NATIONALITY ORDER BY COUNT(*) DESC LIMIT 1) AS most_frequent_nationality,\n        (SELECT GAP FROM practices GROUP BY GAP ORDER BY COUNT(*) DESC LIMIT 1) AS most_frequent_gap,\n        MEDIAN(LAP) AS median_lap,\n        MEDIAN(STOPS) AS median_stops\n    FROM pitstops\n)\nSELECT DISTINCT \n    COALESCE(a.CAR, most_frequent_values.most_frequent_car, 'unknown') AS CAR,\n    COALESCE(C.DETAIL, most_frequent_values.most_frequent_detail, 'unknown') AS DETAIL,\n    COALESCE(a.DRIVER, 'unknown') AS DRIVER,\n    COALESCE(B.DRIVERCODE, 'unknown') AS DRIVERCODE,\n    COALESCE(D.GAP, most_frequent_values.most_frequent_gap, 'unknown') AS GAP,\n    COALESCE(a.GRAND_PRIX, 'unknown') AS GRAND_PRIX,\n    COALESCE(C.LAP, most_frequent_values.median_lap, 0) AS LAP,\n    COALESCE(B.NATIONALITY, most_frequent_values.most_frequent_nationality, 'unknown') AS NATIONALITY,\n    -- Replace NULL RACE_POSITION with 'unknown'\n    COALESCE(CAST(A.RACE_POSITION AS VARCHAR), 'unknown') AS RACE_POSITION,\n    COALESCE(C.STOPS, most_frequent_values.median_stops, 0) AS STOPS,\n    CASE \n        WHEN POSITION(':' IN C.TIME) > 0 THEN \n            SPLIT_PART(COALESCE(C.TIME, TO_CHAR(median_time.median_value)), ':', 1)::INT * 60 + SPLIT_PART(C.TIME, ':', 2)::FLOAT\n        ELSE \n            COALESCE(C.TIME, TO_CHAR(median_time.median_value), 'unknown')::FLOAT \n    END AS TIME,\n    COALESCE(A.YEAR, 'unknown') AS YEAR\nFROM DRIVER_DETAILS a\nLEFT JOIN driver_standings b \n    ON a.driver = b.driver AND a.year = b.year AND a.car = b.car\nLEFT JOIN pitstops c \n    ON a.driver = c.driver AND a.year = c.year AND a.car = c.car AND a.grand_prix = c.grand_prix\nLEFT JOIN practices d \n    ON a.driver = d.driver AND a.car = d.car AND a.year = d.year AND a.grand_prix = d.grand_prix AND a.race_position = d.pos\nLEFT JOIN sprint_results e \n    ON a.driver = e.driver AND a.year = e.year AND a.race_position = e.pos AND a.car = e.car AND a.grand_prix = e.grand_prix,\nmost_frequent_values, median_time;",
   "execution_count": null
  }
 ]
}