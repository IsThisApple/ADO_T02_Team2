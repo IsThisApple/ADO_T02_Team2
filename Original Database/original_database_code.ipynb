{
 "metadata": {
  "kernelspec": {
   "display_name": "Python 3 (ipykernel)",
   "language": "python",
   "name": "python3"
  },
  "language_info": {
   "codemirror_mode": {
    "name": "ipython",
    "version": 3
   },
   "file_extension": ".py",
   "mimetype": "text/x-python",
   "name": "python",
   "nbconvert_exporter": "python",
   "pygments_lexer": "ipython3",
   "version": "3.12.4"
  }
 },
 "nbformat_minor": 5,
 "nbformat": 4,
 "cells": [
  {
   "cell_type": "markdown",
   "id": "4a50e7eb-e501-4fe1-9771-ef4c8cefa360",
   "metadata": {
    "name": "cell2",
    "collapsed": false,
    "resultHeight": 67
   },
   "source": "Consolidated SQL code used to create the Original Database to store the F1 datasets to utilised the ELT pipeline in Snowflake."
  },
  {
   "cell_type": "code",
   "execution_count": null,
   "id": "e2108508-c081-49b7-88c7-5da38f2372bc",
   "metadata": {
    "name": "cell1",
    "language": "sql"
   },
   "outputs": [],
   "source": "-- constructor_standings\ncreate or replace TABLE RAW3.F1_3.CONSTRUCTOR_STANDINGS (\n\tPOS VARCHAR(35) NOT NULL,\n\tTEAM VARCHAR(255) NOT NULL,\n\tPTS FLOAT,\n\tYEAR NUMBER(38,0) NOT NULL,\n\tconstraint CONSTRUCTOR_STANDINGS_PK primary key (YEAR, TEAM)\n);\n\n-- driver_details\ncreate or replace TABLE RAW3.F1_3.DRIVER_DETAILS (\n\tCAR VARCHAR(255),\n\t\"Date\" DATE NOT NULL,\n\tDRIVER VARCHAR(255) NOT NULL,\n\tGRAND_PRIX VARCHAR(255) NOT NULL,\n\tPTS FLOAT,\n\tRACE_POSITION VARCHAR(20),\n\tYEAR NUMBER(38,0) NOT NULL,\n\tconstraint UQ_CAR_YEAR unique (CAR, YEAR),\n\tconstraint PK_DRIVER_DETAILS primary key (GRAND_PRIX, YEAR)\n);\n\n-- driver_standings\ncreate or replace TABLE RAW3.F1_3.DRIVER_STANDINGS (\n\tPOS VARCHAR(35) NOT NULL,\n\tDRIVER VARCHAR(255) NOT NULL,\n\tNATIONALITY VARCHAR(3) NOT NULL,\n\tCAR VARCHAR(255),\n\tPTS FLOAT,\n\tDRIVERCODE VARCHAR(3) NOT NULL,\n\tYEAR NUMBER(38,0) NOT NULL,\n\tconstraint UQ_DRIVER_YEAR unique (DRIVER, YEAR),\n\tconstraint PK_DRIVER_STANDINGS primary key (DRIVERCODE, YEAR)\n);\n\n-- fastestlaps_detailed\ncreate or replace TABLE RAW3.F1_3.FASTESTLAPS_DETAILED (\n\tAVG_SPEED NUMBER(38,0),\n\tCAR VARCHAR(255),\n\tDETAIL VARCHAR(255) NOT NULL,\n\tDRIVER VARCHAR(255) NOT NULL,\n\tDRIVERCODE VARCHAR(3) NOT NULL,\n\tGRAND_PRIX VARCHAR(255) NOT NULL,\n\tNO NUMBER(38,0) NOT NULL,\n\tPOS VARCHAR(35) NOT NULL,\n\tLAP NUMBER(38,0),\n\tTIME VARCHAR(255),\n\tTIME_OF_DAY VARCHAR(255),\n\tYEAR NUMBER(38,0) NOT NULL,\n\tconstraint UQ_CAR_YEAR unique (CAR, YEAR),\n\tconstraint PK_FASTESTLAPS primary key (DRIVERCODE, YEAR, GRAND_PRIX)\n);\n\n-- fastest_laps\ncreate or replace TABLE RAW3.F1_3.FASTEST_LAPS (\n\tGRAND_PRIX VARCHAR(255) NOT NULL,\n\tDRIVER VARCHAR(255) NOT NULL,\n\tCAR VARCHAR(255),\n\tTIME VARCHAR(255),\n\tDRIVERCODE VARCHAR(3) NOT NULL,\n\tYEAR NUMBER(38,0) NOT NULL,\n\tconstraint UQ_CAR_YEAR unique (CAR, YEAR),\n\tconstraint PK_FASTEST_LAPS primary key (DRIVERCODE, YEAR, GRAND_PRIX)\n);\n\n-- pitstops\ncreate or replace TABLE RAW3.F1_3.PITSTOPS (\n\tSTOPS NUMBER(38,0) NOT NULL,\n\tNO NUMBER(38,0) NOT NULL,\n\tDRIVER VARCHAR(255) NOT NULL,\n\tCAR VARCHAR(255),\n\tLAP NUMBER(38,0) NOT NULL,\n\tTIME_OF_DAY TIME(9),\n\tTIME VARCHAR(16777216),\n\tTOTAL VARCHAR(16777216) NOT NULL,\n\tYEAR NUMBER(38,0) NOT NULL,\n\tGRAND_PRIX VARCHAR(255) NOT NULL,\n\tDETAIL VARCHAR(255) NOT NULL,\n\tDRIVERCODE VARCHAR(3) NOT NULL,\n\tconstraint UQ_CAR_YEAR unique (CAR, YEAR),\n\tconstraint PK_PITSTOPS primary key (DRIVERCODE, YEAR, GRAND_PRIX, LAP)\n);\n\n-- practices\ncreate or replace TABLE RAW3.F1_3.PRACTICES (\n\tCAR VARCHAR(255),\n\tDETAIL VARCHAR(255) NOT NULL,\n\tDRIVER VARCHAR(255) NOT NULL,\n\tDRIVERCODE VARCHAR(3) NOT NULL,\n\tGAP VARCHAR(255),\n\tGRAND_PRIX VARCHAR(16777216) NOT NULL,\n\tLAPS NUMBER(38,0),\n\tNO NUMBER(38,0) NOT NULL,\n\tPOS VARCHAR(35) NOT NULL,\n\tTIME VARCHAR(255),\n\tYEAR NUMBER(38,0) NOT NULL,\n\tconstraint UQ_CAR_YEAR unique (CAR, YEAR),\n\tconstraint PK_PRACTICES primary key (DRIVERCODE, YEAR, GRAND_PRIX, NO)\n);\n\n-- qualifyings\ncreate or replace TABLE RAW3.F1_3.QUALIFYINGS (\n\tCAR VARCHAR(255),\n\tDETAIL VARCHAR(255) NOT NULL,\n\tDRIVER VARCHAR(255) NOT NULL,\n\tDRIVERCODE VARCHAR(3) NOT NULL,\n\tGRAND_PRIX VARCHAR(255) NOT NULL,\n\tLAPS NUMBER(38,0),\n\tNO NUMBER(38,0) NOT NULL,\n\tPOS VARCHAR(35) NOT NULL,\n\tQ1 VARCHAR(255),\n\tQ2 VARCHAR(255),\n\tQ3 VARCHAR(255),\n\tTIME VARCHAR(255),\n\tYEAR NUMBER(38,0) NOT NULL,\n\tconstraint UQ_CAR_YEAR unique (CAR, YEAR),\n\tconstraint PK_QUALIFYINGS primary key (DRIVERCODE, YEAR, GRAND_PRIX, NO)\n);\n\n-- race_details\ncreate or replace TABLE RAW3.F1_3.RACE_DETAILS (\n\tPOS VARCHAR(35) NOT NULL,\n\tNO NUMBER(38,0) NOT NULL,\n\tDRIVER VARCHAR(255) NOT NULL,\n\tCAR VARCHAR(255),\n\tLAPS FLOAT,\n\tTIME_RETIRED VARCHAR(255),\n\tPTS FLOAT,\n\tYEAR NUMBER(38,0) NOT NULL,\n\tGRAND_PRIX VARCHAR(255) NOT NULL,\n\tDETAIL VARCHAR(255) NOT NULL,\n\tDRIVERCODE VARCHAR(3) NOT NULL,\n\tconstraint UQ_CAR_YEAR unique (CAR, YEAR),\n\tconstraint PK_RACE_DETAILS primary key (DRIVERCODE, YEAR, GRAND_PRIX)\n);\n\n-- race_summaries\ncreate or replace TABLE RAW3.F1_3.RACE_SUMMARIES (\n\tGRAND_PRIX VARCHAR(255) NOT NULL,\n\tDATE DATE NOT NULL,\n\tWINNER VARCHAR(255) NOT NULL,\n\tCAR VARCHAR(255),\n\tLAPS NUMBER(38,0),\n\tTIME VARCHAR(255),\n\tWINNERCODE VARCHAR(3) NOT NULL,\n\tYEAR NUMBER(38,0) NOT NULL,\n\tconstraint UQ_CAR_YEAR unique (CAR, YEAR),\n\tconstraint PK_RACE_SUMMARIES primary key (WINNERCODE, YEAR, GRAND_PRIX)\n);\n\n-- sprint_grid\ncreate or replace TABLE RAW3.F1_3.SPRINT_GRID (\n\tPOS VARCHAR(35) NOT NULL,\n\tNO NUMBER(38,0),\n\tDRIVER VARCHAR(255) NOT NULL,\n\tCAR VARCHAR(255),\n\tTIME VARCHAR(255),\n\tYEAR NUMBER(38,0) NOT NULL,\n\tGRAND_PRIX VARCHAR(255) NOT NULL,\n\tDETAIL VARCHAR(255) NOT NULL,\n\tDRIVERCODE VARCHAR(3) NOT NULL,\n\tconstraint UQ_CAR_YEAR unique (CAR, YEAR),\n\tconstraint PK_SPRINT_GRID primary key (DRIVERCODE, YEAR, GRAND_PRIX)\n);\n\n-- sprint_results\ncreate or replace TABLE RAW3.F1_3.SPRINT_RESULTS (\n\tPOS VARCHAR(35) NOT NULL,\n\tNO NUMBER(38,0),\n\tDRIVER VARCHAR(255) NOT NULL,\n\tCAR VARCHAR(255),\n\tLAPS NUMBER(38,0) NOT NULL,\n\tTIME_RETIRED VARCHAR(255) NOT NULL,\n\tPTS FLOAT,\n\tYEAR NUMBER(38,0) NOT NULL,\n\tGRAND_PRIX VARCHAR(255) NOT NULL,\n\tDETAIL VARCHAR(255),\n\tDRIVERCODE VARCHAR(3) NOT NULL,\n\tconstraint UQ_CAR_YEAR unique (CAR, YEAR),\n\tconstraint PK_SPRINT_RESULTS primary key (DRIVERCODE, YEAR, GRAND_PRIX)\n);\n\n-- starting_grids\ncreate or replace TABLE RAW3.F1_3.STARTING_GRIDS (\n\tCAR VARCHAR(255),\n\tDETAIL VARCHAR(255) NOT NULL,\n\tDRIVER VARCHAR(255) NOT NULL,\n\tDRIVERCODE VARCHAR(3) NOT NULL,\n\tGRAND_PRIX VARCHAR(255) NOT NULL,\n\tNO NUMBER(38,0) NOT NULL,\n\tPOS VARCHAR(35) NOT NULL,\n\tTIME VARCHAR(255),\n\tYEAR NUMBER(38,0) NOT NULL,\n\tconstraint UQ_CAR_YEAR unique (CAR, YEAR),\n\tconstraint PK_STARTING_GRIDS primary key (DRIVERCODE, YEAR, GRAND_PRIX)\n);\n\n-- team_details\ncreate or replace TABLE RAW3.F1_3.TEAM_DETAILS (\n\tGRAND_PRIX VARCHAR(255) NOT NULL,\n\tDATE DATE NOT NULL,\n\tPTS FLOAT,\n\tYEAR NUMBER(38,0) NOT NULL,\n\tTEAM VARCHAR(255) NOT NULL,\n\tconstraint UQ_TEAM_YEAR unique (TEAM, YEAR),\n\tconstraint PK_TEAM_DETAILS primary key (YEAR, GRAND_PRIX)\n);"
  }
 ]
}