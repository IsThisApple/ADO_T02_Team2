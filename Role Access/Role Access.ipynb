{
 "metadata": {
  "kernelspec": {
   "display_name": "Python 3 (ipykernel)",
   "language": "python",
   "name": "python3"
  },
  "language_info": {
   "codemirror_mode": {
    "name": "ipython",
    "version": 3
   },
   "file_extension": ".py",
   "mimetype": "text/x-python",
   "name": "python",
   "nbconvert_exporter": "python",
   "pygments_lexer": "ipython3",
   "version": "3.11.5"
  },
  "lastEditStatus": {
   "notebookId": "hmfn67b4wtxkky5vixo2",
   "authorId": "9216233790596",
   "authorName": "CATFISH",
   "authorEmail": "",
   "sessionId": "cba3470f-13a1-4425-9d3c-5d84d5d814f9",
   "lastEditTime": 1737687291699
  }
 },
 "nbformat_minor": 5,
 "nbformat": 4,
 "cells": [
  {
   "cell_type": "markdown",
   "id": "db50fcb1-1def-4931-bdf6-360c370b2f48",
   "metadata": {
    "name": "cell1",
    "resultHeight": 41
   },
   "source": [
    "Role Based Access for F1 Database"
   ]
  },
  {
   "cell_type": "code",
   "id": "1e7b20b1-326a-45d8-ad56-0e401a14b23c",
   "metadata": {
    "language": "sql",
    "name": "cell2"
   },
   "outputs": [],
   "source": "use role accountadmin;\n\n--------------------\n--- ANALYST ROLE ---\n--------------------\ncreate or replace role ANALYST;\n\n--- verify no grants ---\nShow GRANTS to ROLE ANALYST;\n\n---Grant role to users---\ngrant role ANALYST to user CATFISH;\ngrant role ANALYST to user CAT;\ngrant role ANALYST to user CHIPMUNK;\nuse role ANALYST;\n\n---revert back to account admin ----\nuse role accountadmin;\n---Grant to use warehouse--- \ngrant usage on warehouse CATFISH_WH TO ROLE ANALYST;\nuse role ANALYST;\n\n--Grant read access to the team's DB---\nuse role accountadmin;\nGRANT USAGE ON DATABASE RAW3 TO ROLE ANALYST;\ngrant USAGE on schema RAW3.F1_3 to role ANALYST;\ngrant select on table RAW3.F1_3.DT_DRIVER_TABLE TO ROLE ANALYST;\ngrant select on table RAW3.F1_3.DT_GRID_STATS TO ROLE ANALYST;\ngrant select on table RAW3.F1_3.DT_RACE_STATS TO ROLE ANALYST;\ngrant select on table RAW3.F1_3.DT_TEAM_STATS TO ROLE ANALYST;\nuse role ANALYST; \n-- query to test in analyst role -- \n--select * from \"RAW3\".\"F1_3\".\"PITSTOPS\";\n--Reviewing the access of analyst---\nuse role accountadmin;\nshow grants to role analyst;\n\n--The main aim of this role analyst role is so that the analyst has only access to view the data but not touch it due to low access-- \n\n----------------------\n--- DEVELOPER ROLE ---\n----------------------\nuse role accountadmin;\ncreate or replace role developer; \n\n--- verify no grants ---\nShow GRANTS to ROLE developer;\n\n---Grant role to users---\ngrant role developer to user CATFISH;\ngrant role developer to user CAT;\ngrant role developer to user CHIPMUNK;\nuse role developer;\n\n--grant the access for analyst to developer since developer is higher than analyst-- \nuse role accountadmin;\ngrant role analyst to role developer;\n-- The increment in power, The developer is able to insert stuff into the tables--- \nGRANT insert on all tables in schema RAW3.F1_3 to role developer;\nGRANT select on all tables in schema RAW3.F1_3 to role DEVELOPER;\n-- compare the roles for now --- \nuse role developer;\nuse role accountadmin; \nshow grants to role developer;\n\n---------------\n--- CI ROLE ---\n---------------\nuse role accountadmin;\ncreate or replace role CI; \n\n--- verify no grants ---\nShow GRANTS to ROLE CI;\n\n---Grant role to users---\ngrant role CI to user CATFISH;\ngrant role CI to user CAT;\ngrant role CI to user CHIPMUNK;\nuse role CI;\n--grant the access for developer to CI since CI is developer but higher-- \nuse role accountadmin;\ngrant role developer to role CI;\n\n--  the increment in power is that  CI is able to update and delete stuff from the tables  and view the infomation schema-- \nGRANT update on all tables in schema RAW3.F1_3 to role CI;\nGRANT delete on all tables in schema RAW3.F1_3 to role CI;\nuse role CI;\n\n-- Final overview of the role-- \nUSE role analyst;\nuse role developer;\nuse role CI;\nuse role accountadmin; ",
   "execution_count": null
  }
 ]
}