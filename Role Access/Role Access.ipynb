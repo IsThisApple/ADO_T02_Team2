{
 "metadata": {
  "kernelspec": {
   "display_name": "Python 3 (ipykernel)",
   "language": "python",
   "name": "python3"
  },
  "language_info": {
   "codemirror_mode": {
    "name": "ipython",
    "version": 3
   },
   "file_extension": ".py",
   "mimetype": "text/x-python",
   "name": "python",
   "nbconvert_exporter": "python",
   "pygments_lexer": "ipython3",
   "version": "3.11.5"
  }
 },
 "nbformat_minor": 5,
 "nbformat": 4,
 "cells": [
  {
   "cell_type": "markdown",
   "id": "db50fcb1-1def-4931-bdf6-360c370b2f48",
   "metadata": {
    "name": "cell1",
    "resultHeight": 41
   },
   "source": [
    "Role Based Access for F1 Database"
   ]
  },
  {
   "cell_type": "code",
   "id": "1e7b20b1-326a-45d8-ad56-0e401a14b23c",
   "metadata": {
    "language": "sql",
    "name": "cell2"
   },
   "outputs": [],
   "source": "-- this is for role access-- \n-- flow of the role access analyst --> developer --> CI --> account admin \n-- the CI role is a analyst + developer but higher up but lower than account admin \nuse role accountadmin;\n\n--------------------\n--- ANALYST ROLE ---\n--------------------\ncreate role ANALYST;\n\n--- verify no grants ---\nShow GRANTS to ROLE ANALYST;\n\n---Grant role to users---\ngrant role ANALYST to user CATFISH;\ngrant role ANALYST to user CAT;\ngrant role ANALYST to user CHIPMUNK;\nuse role ANALYST;\n\n---revert back to account admin ----\nuse role accountadmin;\n---Grant to use warehouse--- \ngrant usage on warehouse CATFISH_WH TO ROLE ANALYST;\nuse role ANALYST;\n\n--Grant read access to the team's DB---\nuse role accountadmin;\nGRANT USAGE ON DATABASE RAW3 TO ROLE ANALYST;\ngrant USAGE on schema RAW3.F1_3 to role ANALYST;\nGRANT select on all tables in schema RAW3.F1_3 to role ANALYST;\nuse role ANALYST; \n-- query to test in analyst role -- \nselect * from \"RAW3\".\"F1_3\".\"PITSTOPS\";\n--Reviewing the access of analyst---\nuse role accountadmin;\nshow grants to role analyst;\n\n--The main aim of this role analyst role is so that the analyst has only access to view the data but not touch it due to low access-- \n\n----------------------\n--- DEVELOPER ROLE ---\n----------------------\nuse role accountadmin;\ncreate role developer; \n\n--- verify no grants ---\nShow GRANTS to ROLE developer;\n\n---Grant role to users---\ngrant role developer to user CATFISH;\ngrant role developer to user CAT;\ngrant role developer to user CHIPMUNK;\nuse role developer;\n\n--grant the access for analyst to developer since developer is higher than analyst-- \nuse role accountadmin;\ngrant role analyst to role developer;\n-- The increment in power, The developer is able to insert stuff into the tables--- \nGRANT insert on all tables in schema RAW3.F1_3 to role developer;\n\n-- compare the roles for now --- \nuse role developer;\nuse role accountadmin; \nshow grants to role developer;\n\n---------------\n--- CI ROLE ---\n---------------\nuse role accountadmin;\ncreate role CI; \n\n--- verify no grants ---\nShow GRANTS to ROLE CI;\n\n---Grant role to users---\ngrant role CI to user CATFISH;\ngrant role CI to user CAT;\ngrant role CI to user CHIPMUNK;\nuse role CI;\n--grant the access for developer to CI since CI is developer but higher-- \nuse role accountadmin;\ngrant role developer to role CI;\n\n--  the increment in power is that  CI is able to update and delete stuff from the tables  and view the infomation schema-- \nGRANT update on all tables in schema RAW3.F1_3 to role CI;\nGRANT delete on all tables in schema RAW3.F1_3 to role CI;\nuse role CI;\n\n-- Final overview of the role-- \nUSE role analyst;\nuse role developer;\nuse role CI;\nuse role accountadmin; ",
   "execution_count": null
  }
 ]
}